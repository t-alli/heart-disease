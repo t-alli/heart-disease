{
 "cells": [
  {
   "cell_type": "markdown",
   "metadata": {},
   "source": [
    "# An Exploratory Data Analysis on the UCI Heart Disease Dataset"
   ]
  },
  {
   "cell_type": "markdown",
   "metadata": {},
   "source": [
    "This is the first part of a short analysis piece on the [Heart Disease dataset](https://archive.ics.uci.edu/ml/datasets/heart+Disease) from the UCI machine learning repository. This analysis uses the cleveland dataset from the repository.\n"
   ]
  },
  {
   "cell_type": "code",
   "execution_count": 23,
   "metadata": {
    "collapsed": true
   },
   "outputs": [],
   "source": [
    "%matplotlib inline"
   ]
  },
  {
   "cell_type": "code",
   "execution_count": 24,
   "metadata": {
    "collapsed": true
   },
   "outputs": [],
   "source": [
    "import pandas as pd\n",
    "import numpy as np\n",
    "import seaborn as sns\n",
    "import matplotlib.pyplot as plt"
   ]
  },
  {
   "cell_type": "markdown",
   "metadata": {},
   "source": [
    "## Data Wrangling"
   ]
  },
  {
   "cell_type": "markdown",
   "metadata": {},
   "source": [
    "To begin, let's look at the general structure of the data:"
   ]
  },
  {
   "cell_type": "code",
   "execution_count": 25,
   "metadata": {},
   "outputs": [
    {
     "data": {
      "text/html": [
       "<div>\n",
       "<style>\n",
       "    .dataframe thead tr:only-child th {\n",
       "        text-align: right;\n",
       "    }\n",
       "\n",
       "    .dataframe thead th {\n",
       "        text-align: left;\n",
       "    }\n",
       "\n",
       "    .dataframe tbody tr th {\n",
       "        vertical-align: top;\n",
       "    }\n",
       "</style>\n",
       "<table border=\"1\" class=\"dataframe\">\n",
       "  <thead>\n",
       "    <tr style=\"text-align: right;\">\n",
       "      <th></th>\n",
       "      <th>Age</th>\n",
       "      <th>Sex</th>\n",
       "      <th>Chest_pain_type</th>\n",
       "      <th>resting_bp</th>\n",
       "      <th>serum_chol</th>\n",
       "      <th>blood_sugar</th>\n",
       "      <th>ecg</th>\n",
       "      <th>max_hr</th>\n",
       "      <th>e_i_angina</th>\n",
       "      <th>ST_dep</th>\n",
       "      <th>slope</th>\n",
       "      <th>ca</th>\n",
       "      <th>thal</th>\n",
       "      <th>num</th>\n",
       "    </tr>\n",
       "  </thead>\n",
       "  <tbody>\n",
       "    <tr>\n",
       "      <th>0</th>\n",
       "      <td>63</td>\n",
       "      <td>1</td>\n",
       "      <td>1</td>\n",
       "      <td>145</td>\n",
       "      <td>233</td>\n",
       "      <td>1</td>\n",
       "      <td>2</td>\n",
       "      <td>150</td>\n",
       "      <td>0</td>\n",
       "      <td>2.3</td>\n",
       "      <td>3</td>\n",
       "      <td>0</td>\n",
       "      <td>6</td>\n",
       "      <td>0</td>\n",
       "    </tr>\n",
       "    <tr>\n",
       "      <th>1</th>\n",
       "      <td>67</td>\n",
       "      <td>1</td>\n",
       "      <td>4</td>\n",
       "      <td>160</td>\n",
       "      <td>286</td>\n",
       "      <td>0</td>\n",
       "      <td>2</td>\n",
       "      <td>108</td>\n",
       "      <td>1</td>\n",
       "      <td>1.5</td>\n",
       "      <td>2</td>\n",
       "      <td>3</td>\n",
       "      <td>3</td>\n",
       "      <td>2</td>\n",
       "    </tr>\n",
       "    <tr>\n",
       "      <th>2</th>\n",
       "      <td>67</td>\n",
       "      <td>1</td>\n",
       "      <td>4</td>\n",
       "      <td>120</td>\n",
       "      <td>229</td>\n",
       "      <td>0</td>\n",
       "      <td>2</td>\n",
       "      <td>129</td>\n",
       "      <td>1</td>\n",
       "      <td>2.6</td>\n",
       "      <td>2</td>\n",
       "      <td>2</td>\n",
       "      <td>7</td>\n",
       "      <td>1</td>\n",
       "    </tr>\n",
       "    <tr>\n",
       "      <th>3</th>\n",
       "      <td>37</td>\n",
       "      <td>1</td>\n",
       "      <td>3</td>\n",
       "      <td>130</td>\n",
       "      <td>250</td>\n",
       "      <td>0</td>\n",
       "      <td>0</td>\n",
       "      <td>187</td>\n",
       "      <td>0</td>\n",
       "      <td>3.5</td>\n",
       "      <td>3</td>\n",
       "      <td>0</td>\n",
       "      <td>3</td>\n",
       "      <td>0</td>\n",
       "    </tr>\n",
       "    <tr>\n",
       "      <th>4</th>\n",
       "      <td>41</td>\n",
       "      <td>0</td>\n",
       "      <td>2</td>\n",
       "      <td>130</td>\n",
       "      <td>204</td>\n",
       "      <td>0</td>\n",
       "      <td>2</td>\n",
       "      <td>172</td>\n",
       "      <td>0</td>\n",
       "      <td>1.4</td>\n",
       "      <td>1</td>\n",
       "      <td>0</td>\n",
       "      <td>3</td>\n",
       "      <td>0</td>\n",
       "    </tr>\n",
       "  </tbody>\n",
       "</table>\n",
       "</div>"
      ],
      "text/plain": [
       "   Age  Sex  Chest_pain_type  resting_bp  serum_chol  blood_sugar  ecg  \\\n",
       "0   63    1                1         145         233            1    2   \n",
       "1   67    1                4         160         286            0    2   \n",
       "2   67    1                4         120         229            0    2   \n",
       "3   37    1                3         130         250            0    0   \n",
       "4   41    0                2         130         204            0    2   \n",
       "\n",
       "   max_hr  e_i_angina  ST_dep  slope ca thal  num  \n",
       "0     150           0     2.3      3  0    6    0  \n",
       "1     108           1     1.5      2  3    3    2  \n",
       "2     129           1     2.6      2  2    7    1  \n",
       "3     187           0     3.5      3  0    3    0  \n",
       "4     172           0     1.4      1  0    3    0  "
      ]
     },
     "execution_count": 25,
     "metadata": {},
     "output_type": "execute_result"
    }
   ],
   "source": [
    "filename = 'processed.cleveland.csv'\n",
    "cleveland = pd.read_csv(filename)\n",
    "cleveland.head()"
   ]
  },
  {
   "cell_type": "code",
   "execution_count": 26,
   "metadata": {},
   "outputs": [
    {
     "name": "stdout",
     "output_type": "stream",
     "text": [
      "<class 'pandas.core.frame.DataFrame'>\n",
      "RangeIndex: 303 entries, 0 to 302\n",
      "Data columns (total 14 columns):\n",
      "Age                303 non-null int64\n",
      "Sex                303 non-null int64\n",
      "Chest_pain_type    303 non-null int64\n",
      "resting_bp         303 non-null int64\n",
      "serum_chol         303 non-null int64\n",
      "blood_sugar        303 non-null int64\n",
      "ecg                303 non-null int64\n",
      "max_hr             303 non-null int64\n",
      "e_i_angina         303 non-null int64\n",
      "ST_dep             303 non-null float64\n",
      "slope              303 non-null int64\n",
      "ca                 303 non-null object\n",
      "thal               303 non-null object\n",
      "num                303 non-null int64\n",
      "dtypes: float64(1), int64(11), object(2)\n",
      "memory usage: 33.2+ KB\n"
     ]
    }
   ],
   "source": [
    "cleveland.info()"
   ]
  },
  {
   "cell_type": "markdown",
   "metadata": {},
   "source": [
    "There are 303 entries and 14 features. We can see that the 'ca' and 'thal' features were imported as objects. From the UCI description, ca refers to the number of major vessels coloured by fluroscopy and is continuous, and thal refers to the type of thalium defect, which is categorical. We'll have to inspect the features and change the datatype:"
   ]
  },
  {
   "cell_type": "code",
   "execution_count": 27,
   "metadata": {},
   "outputs": [
    {
     "data": {
      "text/plain": [
       "0    176\n",
       "1     65\n",
       "2     38\n",
       "3     20\n",
       "?      4\n",
       "dtype: int64"
      ]
     },
     "execution_count": 27,
     "metadata": {},
     "output_type": "execute_result"
    }
   ],
   "source": [
    "pd.value_counts(cleveland['ca'].values)"
   ]
  },
  {
   "cell_type": "markdown",
   "metadata": {},
   "source": [
    "4 entries have missing data for the ca feature. As there are 4 unique values, we will treat this as a categorical feature.  Taking a look at 'thal':"
   ]
  },
  {
   "cell_type": "code",
   "execution_count": 28,
   "metadata": {},
   "outputs": [
    {
     "data": {
      "text/plain": [
       "3    166\n",
       "7    117\n",
       "6     18\n",
       "?      2\n",
       "dtype: int64"
      ]
     },
     "execution_count": 28,
     "metadata": {},
     "output_type": "execute_result"
    }
   ],
   "source": [
    "pd.value_counts(cleveland['thal'].values)"
   ]
  },
  {
   "cell_type": "markdown",
   "metadata": {},
   "source": [
    "2 entries have missing data. We'll replace the missing data with NaNs, before deleting the rows containing the missing values. Additionally we'll convert the continuous features from integers to floats in preparation for feature scaling and normalisation:"
   ]
  },
  {
   "cell_type": "code",
   "execution_count": 29,
   "metadata": {},
   "outputs": [
    {
     "name": "stdout",
     "output_type": "stream",
     "text": [
      "<class 'pandas.core.frame.DataFrame'>\n",
      "Int64Index: 297 entries, 0 to 301\n",
      "Data columns (total 14 columns):\n",
      "Age                297 non-null float64\n",
      "Sex                297 non-null int64\n",
      "Chest_pain_type    297 non-null int64\n",
      "resting_bp         297 non-null float64\n",
      "serum_chol         297 non-null float64\n",
      "blood_sugar        297 non-null int64\n",
      "ecg                297 non-null int64\n",
      "max_hr             297 non-null float64\n",
      "e_i_angina         297 non-null int64\n",
      "ST_dep             297 non-null float64\n",
      "slope              297 non-null int64\n",
      "ca                 297 non-null int64\n",
      "thal               297 non-null int64\n",
      "num                297 non-null int64\n",
      "dtypes: float64(5), int64(9)\n",
      "memory usage: 34.8 KB\n"
     ]
    }
   ],
   "source": [
    "#replace missing data with NaNs\n",
    "cleveland['ca'] = cleveland['ca'].replace('?', np.NaN)\n",
    "cleveland['thal'] = cleveland['thal'].replace('?', np.NaN)\n",
    "\n",
    "# Drop rows with na values\n",
    "cleveland = cleveland.dropna()\n",
    "\n",
    "# Convert datatypes: continuous features \n",
    "cleveland['Age'] = cleveland['Age'].astype(\"float64\")\n",
    "cleveland['resting_bp'] = cleveland['resting_bp'].astype(\"float64\")\n",
    "cleveland['serum_chol'] = cleveland['serum_chol'].astype(\"float64\")\n",
    "cleveland['max_hr'] = cleveland['max_hr'].astype(\"float64\")\n",
    "cleveland['ST_dep'] = cleveland['ST_dep'].astype(\"float64\")\n",
    "\n",
    "#Convert datatypes: categorical features \n",
    "cleveland['thal'] = cleveland['thal'].astype(\"int64\")\n",
    "cleveland['ca'] = cleveland['ca'].astype(\"int64\")\n",
    "\n",
    "cleveland.info()"
   ]
  },
  {
   "cell_type": "markdown",
   "metadata": {},
   "source": [
    "The datatypes all look appropriate. We can now move on to the exploratory data analysis."
   ]
  },
  {
   "cell_type": "markdown",
   "metadata": {},
   "source": [
    "## Exploratory Data Analysis "
   ]
  },
  {
   "cell_type": "markdown",
   "metadata": {},
   "source": [
    "Let's begin by looking at num, the heart disease predictor variable: "
   ]
  },
  {
   "cell_type": "code",
   "execution_count": 30,
   "metadata": {},
   "outputs": [
    {
     "data": {
      "text/plain": [
       "<matplotlib.text.Text at 0x24382b703c8>"
      ]
     },
     "execution_count": 30,
     "metadata": {},
     "output_type": "execute_result"
    },
    {
     "data": {
      "image/png": "[encoded data removed]",
      "text/plain": [
       "<matplotlib.figure.Figure at 0x24382b44f60>"
      ]
     },
     "metadata": {},
     "output_type": "display_data"
    }
   ],
   "source": [
    "plt.figure(figsize = (9,5))\n",
    "sns.barplot(x = 'num', y= 'num', data = cleveland, estimator = lambda x: len(x) / len(cleveland) * 100)\n",
    "plt.xlabel('Heart Disease')\n",
    "plt.ylabel('Percent of Total')"
   ]
  },
  {
   "cell_type": "markdown",
   "metadata": {},
   "source": [
    "Just over 50% of cases are negative, with the rest of the cases being positive with differing degrees of severity. As we are dealing with very small sample sizes, accurately predicting the label of the predictor as a multiclass categorical feature is unlikely to yield results that will generalize to new data. Let's re-encode num as a binary variable, so we will predict whether heart disease is present (1) or absent (0):"
   ]
  },
  {
   "cell_type": "code",
   "execution_count": 31,
   "metadata": {},
   "outputs": [
    {
     "data": {
      "text/plain": [
       "0    0.538721\n",
       "1    0.461279\n",
       "dtype: float64"
      ]
     },
     "execution_count": 31,
     "metadata": {},
     "output_type": "execute_result"
    }
   ],
   "source": [
    "#re-encode num as a binary variable\n",
    "cleveland['num'] = (cleveland.num>0).astype(\"int\")\n",
    "\n",
    "#Show relative frequency of each value\n",
    "pd.value_counts(cleveland['num'].values, normalize = True)"
   ]
  },
  {
   "cell_type": "markdown",
   "metadata": {},
   "source": [
    "Let's now visualise the continuous features across the new binary predictor variable:"
   ]
  },
  {
   "cell_type": "code",
   "execution_count": 32,
   "metadata": {},
   "outputs": [
    {
     "data": {
      "text/plain": [
       "<matplotlib.text.Text at 0x24382f6d7b8>"
      ]
     },
     "execution_count": 32,
     "metadata": {},
     "output_type": "execute_result"
    },
    {
     "data": {
      "image/png": "[encoded data removed]",
      "text/plain": [
       "<matplotlib.figure.Figure at 0x24382ca4240>"
      ]
     },
     "metadata": {},
     "output_type": "display_data"
    }
   ],
   "source": [
    "plt.figure(figsize=(14,16))\n",
    "\n",
    "plt.subplot(3,3,1)\n",
    "sns.boxplot(x='num', y='Age', data=cleveland)\n",
    "plt.ylabel('Density')\n",
    "plt.gca().set_title('Age')\n",
    "\n",
    "plt.subplot(3,3,2)\n",
    "sns.boxplot(x='num', y='resting_bp', data=cleveland)\n",
    "plt.gca().set_title('resting_bp')\n",
    "\n",
    "plt.subplot(3,3,3)\n",
    "sns.boxplot(x='num', y='serum_chol', data=cleveland)\n",
    "plt.gca().set_title('serum_chol')\n",
    "\n",
    "plt.subplot(3,3,4)\n",
    "sns.boxplot(x='num', y='max_hr', data=cleveland)\n",
    "plt.gca().set_title('max_hr')\n",
    "\n",
    "plt.subplot(3,3,5)\n",
    "sns.boxplot(x='num', y='ST_dep', data=cleveland)\n",
    "plt.gca().set_title('ST_dep')\n"
   ]
  },
  {
   "cell_type": "markdown",
   "metadata": {},
   "source": [
    "On visual inspection, individuals in the group with heart disease are typically older, with lower maximum heart rates and more pronounced ST depression compared to those without heart disease. The differeces in resting blood pressure and serum cholesterol are less marked between the groups."
   ]
  },
  {
   "cell_type": "markdown",
   "metadata": {},
   "source": [
    "The next plot is a correlation matrix of the features, displayed as a heatmap. This allows us to check if there are any dependencies between the variables:"
   ]
  },
  {
   "cell_type": "code",
   "execution_count": 33,
   "metadata": {},
   "outputs": [
    {
     "data": {
      "text/plain": [
       "<matplotlib.axes._subplots.AxesSubplot at 0x24382adea90>"
      ]
     },
     "execution_count": 33,
     "metadata": {},
     "output_type": "execute_result"
    },
    {
     "data": {
      "image/png": "[encoded data removed]",
      "text/plain": [
       "<matplotlib.figure.Figure at 0x24382accc18>"
      ]
     },
     "metadata": {},
     "output_type": "display_data"
    }
   ],
   "source": [
    "corr = cleveland.iloc[:,0:13].corr()\n",
    "plt.figure(figsize=(11,7))\n",
    "sns.heatmap(corr, cmap=\"YlGnBu\")"
   ]
  },
  {
   "cell_type": "markdown",
   "metadata": {},
   "source": [
    "There are no strong correlations between any of the variables, and based on the plot, there are no obviously redundant features. To finish, we'll save the wrangled data to a csv file in preparation for modelling:"
   ]
  },
  {
   "cell_type": "code",
   "execution_count": 34,
   "metadata": {
    "collapsed": true
   },
   "outputs": [],
   "source": [
    "cleveland.to_csv('wrangled_cleveland.csv', index = False)"
   ]
  }
 ],
 "metadata": {
  "kernelspec": {
   "display_name": "Python 3",
   "language": "python",
   "name": "python3"
  },
  "language_info": {
   "codemirror_mode": {
    "name": "ipython",
    "version": 3
   },
   "file_extension": ".py",
   "mimetype": "text/x-python",
   "name": "python",
   "nbconvert_exporter": "python",
   "pygments_lexer": "ipython3",
   "version": "3.6.2"
  }
 },
 "nbformat": 4,
 "nbformat_minor": 2
}
